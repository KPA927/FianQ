{
 "cells": [
  {
   "cell_type": "code",
   "execution_count": 1,
   "id": "3167313e",
   "metadata": {
    "ExecuteTime": {
     "end_time": "2023-11-24T00:56:52.359911Z",
     "start_time": "2023-11-24T00:56:36.374636Z"
    }
   },
   "outputs": [],
   "source": [
    "import pandas as pd\n",
    "import numpy as np\n",
    "from matplotlib import pyplot as plt\n",
    "import cv2\n",
    "from PIL import Image \n",
    "from tqdm import tqdm\n",
    "from numba import jit, njit, prange, cuda\n",
    "import yaml\n",
    "from scipy.sparse import csr_matrix\n",
    "import pickle\n",
    "import os"
   ]
  },
  {
   "cell_type": "code",
   "execution_count": 34,
   "id": "04d7873f",
   "metadata": {
    "ExecuteTime": {
     "end_time": "2023-11-24T02:06:44.592035Z",
     "start_time": "2023-11-24T02:06:43.105452Z"
    }
   },
   "outputs": [],
   "source": [
    "@njit(nogil=True)\n",
    "def norm(x_i, x_j):\n",
    "    return np.sum((x_i-x_j)**2)\n",
    "\n",
    "@njit(nogil=True)\n",
    "def QUBO_matr(img):\n",
    "    \"\"\"\n",
    "    Find QUBO matrix  for image segmentation\n",
    "    img - RGB of image pixels \n",
    "    \"\"\"\n",
    "    h, v, c = img.shape\n",
    "    N = h*v\n",
    "    x = img.reshape((N, c))/255\n",
    "    qubo = np.zeros((N, N))\n",
    "    for i in range(N):\n",
    "        for j in range(N):\n",
    "                qubo[i, i] -= norm(x[i], x[j])\n",
    "                qubo[i, j] = norm(x[i], x[j])\n",
    "    return qubo\n",
    "\n",
    "@njit(nogil=True)\n",
    "def QUBO_matr_sparse(img, K, decay = True):\n",
    "    \"\"\"\n",
    "    Find QUBO matrix  for image recognition\n",
    "    img - RGB of image pixels \n",
    "    K - K nearest neighbours \n",
    "    \"\"\"\n",
    "    h, v, c = img.shape\n",
    "    N = h*v\n",
    "    x = img.reshape((N, c))/255\n",
    "    qubo = np.zeros((N, N))\n",
    "    for i in range(h):\n",
    "        for j in range(v):\n",
    "            for k in range(-K, K+1):\n",
    "                for l in range(-K, K+1):\n",
    "                    if k != 0 or l !=0:\n",
    "                        kl_square = k**2 + l**2\n",
    "                        if i + k >= 0 and i + k < h and j + l >= 0 and j + l < v and kl_square <= K**2:\n",
    "                            flat_ij = i*v+j\n",
    "                            flat_neigh = (i+k)*v+j+l\n",
    "                            if decay:\n",
    "                                norm_neigh = norm(x[flat_ij], x[flat_neigh])/kl_square\n",
    "                            else:\n",
    "                                norm_neigh = norm(x[flat_ij], x[flat_neigh]) \n",
    "                            #print(i, j, k, l, norm_neigh)\n",
    "                            qubo[flat_ij, flat_ij] -= norm_neigh\n",
    "                            qubo[flat_neigh, flat_neigh] -= norm_neigh\n",
    "                            qubo[flat_ij, flat_neigh] += norm_neigh\n",
    "                            qubo[flat_neigh, flat_ij] += norm_neigh\n",
    "    return qubo\n",
    "\n",
    "@njit(nogil=True)\n",
    "def QUBO_matr_full(img, K1, K2, B, decay = False):\n",
    "    \"\"\"\n",
    "    Find QUBO matrix  for omage recognition\n",
    "    img - RGB of image pixels \n",
    "    K1 - K1 nearest neighbours \n",
    "    \"\"\"\n",
    "    h, v, c = img.shape\n",
    "    N = h*v\n",
    "    x = img.reshape((N, c))/255\n",
    "    qubo = np.zeros((N, N))\n",
    "    for i in range(h):\n",
    "        for j in range(v):\n",
    "            for k in range(-K1, K1+1):\n",
    "                for l in range(-K1, K1+1):\n",
    "                    if k != 0 or l !=0:\n",
    "                        kl_square = k**2 + l**2\n",
    "                        if i + k >= 0 and i + k < h and j + l >= 0 and j + l < v and kl_square <= K1**2:                                \n",
    "                            flat_ij = i*v+j\n",
    "                            flat_neigh = (i+k)*v+j+l\n",
    "                            if decay:\n",
    "                                norm_neigh = norm(x[flat_ij], x[flat_neigh])/kl_square\n",
    "                            else:\n",
    "                                norm_neigh = norm(x[flat_ij], x[flat_neigh]) \n",
    "                            if kl_square <= K2**2:\n",
    "                                qubo[flat_ij, flat_ij] += B\n",
    "                                qubo[flat_neigh, flat_neigh] += B                          \n",
    "                            #print(i, j, k, l, norm_neigh)\n",
    "                            qubo[flat_ij, flat_ij] -= norm_neigh\n",
    "                            qubo[flat_neigh, flat_neigh] -= norm_neigh\n",
    "                            qubo[flat_ij, flat_neigh] += norm_neigh\n",
    "                            qubo[flat_neigh, flat_ij] += norm_neigh\n",
    "    return qubo"
   ]
  },
  {
   "cell_type": "code",
   "execution_count": null,
   "id": "08c6d254",
   "metadata": {},
   "outputs": [],
   "source": [
    "K1 = n"
   ]
  },
  {
   "cell_type": "code",
   "execution_count": 4,
   "id": "e4d492be",
   "metadata": {
    "ExecuteTime": {
     "end_time": "2023-11-24T00:56:52.922082Z",
     "start_time": "2023-11-24T00:56:52.909120Z"
    }
   },
   "outputs": [],
   "source": [
    "def qboard_problem(problem_id, problem_type, task_number, matrix_file, where = 'MIN'):\n",
    "    obj_aux = dict(to = where, filenames = matrix_file)\n",
    "    return dict(id = problem_id, type = problem_type, \n",
    "                data_dir = '~/task_' + str(task_number) + '/pkl',\n",
    "                #data_dir = '~/pkl',\n",
    "                objective = obj_aux)\n",
    "def compile_yaml(all_problems, output_file):\n",
    "    output = []\n",
    "    for problem in all_problems:\n",
    "        output.append(qboard_problem(*problem))\n",
    "    stream = open(output_file, 'w')\n",
    "    yaml.dump(dict(problems = output), stream, sort_keys = False)\n",
    "    stream.close()\n",
    "    return\n",
    "\n",
    "def make_pkl(matrix, filename):\n",
    "    stream = open(filename, 'wb')\n",
    "    pickle.dump(csr_matrix(matrix), stream)\n",
    "    stream.close()\n",
    "    return"
   ]
  },
  {
   "cell_type": "code",
   "execution_count": 33,
   "id": "f2f2e1c5",
   "metadata": {
    "ExecuteTime": {
     "end_time": "2023-11-24T01:58:02.281091Z",
     "start_time": "2023-11-24T01:57:58.764197Z"
    }
   },
   "outputs": [
    {
     "name": "stderr",
     "output_type": "stream",
     "text": [
      "3it [00:03,  1.17s/it]\n"
     ]
    }
   ],
   "source": [
    "#draw a big pictures with one tone \n",
    "folder = \"imgs/big\"\n",
    "K1 = 8\n",
    "K2 = 5\n",
    "B = 0.5\n",
    "decay = False\n",
    "problems = []\n",
    "syaml = \"big.yaml\"\n",
    "for i, file in tqdm(enumerate(os.listdir(folder))):\n",
    "    s = file[:-4]\n",
    "    img = cv2.imread(folder+\"/\"+s+'.png')\n",
    "    img1 = cv2.resize(img, (100, 100))#resize because 200*200 is too long to wait and kernel is died simultanously\n",
    "    \n",
    "    Q = QUBO_matr_full(img1, K1 = K1, K2 = K2, B = B, decay = decay)\n",
    "    s1 = s + str(K1) +'_'+str(K2)+ '_'+str(B1) \n",
    "    spkl = s1+'.pkl' \n",
    "    problems.append([s1, 'QUBO', 3, spkl])\n",
    "    make_pkl(Q, 'pkl/' + spkl)\n",
    "\n",
    "compile_yaml(problems, syaml)"
   ]
  },
  {
   "cell_type": "code",
   "execution_count": 36,
   "id": "93543583",
   "metadata": {
    "ExecuteTime": {
     "end_time": "2023-11-24T02:10:08.467139Z",
     "start_time": "2023-11-24T02:09:58.007571Z"
    }
   },
   "outputs": [
    {
     "name": "stderr",
     "output_type": "stream",
     "text": [
      "3it [00:10,  3.47s/it]\n"
     ]
    }
   ],
   "source": [
    "#draw a big pictures with negative tone and precise contour \n",
    "folder = \"imgs/negative\"\n",
    "K1 = 10\n",
    "K2 = 7\n",
    "B = 1\n",
    "decay = False\n",
    "problems = []\n",
    "syaml = \"neg.yaml\"\n",
    "for i, file in tqdm(enumerate(os.listdir(folder))):\n",
    "    s = file[:-4]\n",
    "    img = cv2.imread(folder+\"/\"+s+'.png')\n",
    "    img1 = cv2.resize(img, (120, 120))#resize because 200*200 is too long to wait and kernel is died simultanously\n",
    "    \n",
    "    Q = QUBO_matr_full(img1, K1 = K1, K2 = K2, B = B, decay = decay)\n",
    "    s1 = s + str(K1) +'_'+str(K2)+ '_'+str(B1) \n",
    "    spkl = s1+'.pkl' \n",
    "    problems.append([s1, 'QUBO', 3, spkl])\n",
    "    make_pkl(Q, 'pkl/' + spkl)\n",
    "\n",
    "compile_yaml(problems, syaml)"
   ]
  },
  {
   "cell_type": "code",
   "execution_count": 40,
   "id": "9f76f387",
   "metadata": {
    "ExecuteTime": {
     "end_time": "2023-11-24T02:17:34.908601Z",
     "start_time": "2023-11-24T02:17:34.283769Z"
    }
   },
   "outputs": [],
   "source": [
    "problems = []\n",
    "folder = \"imgs\"\n",
    "decay = False\n",
    "s = '2_small_c'\n",
    "img = cv2.imread(folder+\"/\"+s+'.png')\n",
    "K1 = 8\n",
    "K2 = 7\n",
    "syaml = 'yaml/'+s+'.yaml'\n",
    "for B in range(1, 2):\n",
    "    B1 = 0.8*B\n",
    "    Q = QUBO_matr_full(img, K1 = K1, K2 = K2, B = B1, decay = decay)\n",
    "    s1 = s + str(K1) +'_'+str(K2)+ '_'+str(B1) \n",
    "    spkl = s1+'.pkl' \n",
    "    problems.append([s1, 'QUBO', 3, spkl])\n",
    "    make_pkl(Q, 'pkl/' + spkl)\n",
    "\n",
    "compile_yaml(problems, syaml)"
   ]
  },
  {
   "cell_type": "code",
   "execution_count": null,
   "id": "0d33e42d",
   "metadata": {},
   "outputs": [],
   "source": []
  }
 ],
 "metadata": {
  "kernelspec": {
   "display_name": "Python 3 (ipykernel)",
   "language": "python",
   "name": "python3"
  },
  "language_info": {
   "codemirror_mode": {
    "name": "ipython",
    "version": 3
   },
   "file_extension": ".py",
   "mimetype": "text/x-python",
   "name": "python",
   "nbconvert_exporter": "python",
   "pygments_lexer": "ipython3",
   "version": "3.9.13"
  }
 },
 "nbformat": 4,
 "nbformat_minor": 5
}
