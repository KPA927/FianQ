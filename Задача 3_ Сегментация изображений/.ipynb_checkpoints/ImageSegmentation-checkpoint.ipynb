{
 "cells": [
  {
   "cell_type": "code",
   "execution_count": null,
   "id": "3167313e",
   "metadata": {
    "ExecuteTime": {
     "start_time": "2023-11-23T17:01:18.368Z"
    }
   },
   "outputs": [],
   "source": [
    "import pandas as pd\n",
    "import numpy as np\n",
    "from matplotlib import pyplot as plt\n",
    "import cv2\n",
    "from PIL import Image \n",
    "from tqdm import tqdm\n",
    "from numba import jit, njit, prange, cuda\n",
    "import yaml\n",
    "from scipy.sparse import csr_matrix\n",
    "import pickle\n",
    "import os"
   ]
  },
  {
   "cell_type": "code",
   "execution_count": null,
   "id": "30e6075d",
   "metadata": {
    "ExecuteTime": {
     "start_time": "2023-11-23T17:00:20.185Z"
    }
   },
   "outputs": [],
   "source": [
    "44"
   ]
  },
  {
   "cell_type": "code",
   "execution_count": 2,
   "id": "04d7873f",
   "metadata": {
    "ExecuteTime": {
     "end_time": "2023-11-23T16:55:24.079882Z",
     "start_time": "2023-11-23T16:55:23.585486Z"
    }
   },
   "outputs": [],
   "source": [
    "@njit(nogil=True)\n",
    "def norm(x_i, x_j):\n",
    "    return np.sum((x_i-x_j)**2)\n",
    "\n",
    "@njit(nogil=True)\n",
    "def QUBO_matr(img):\n",
    "    \"\"\"\n",
    "    Find QUBO matrix  for omage recognition\n",
    "    img - RGB of image pixels \n",
    "    \"\"\"\n",
    "    h, v, c = img.shape\n",
    "    N = h*v\n",
    "    x = img.reshape((N, c))/255\n",
    "    qubo = np.zeros((N, N))\n",
    "    for i in range(N):\n",
    "        for j in range(N):\n",
    "                qubo[i, i] -= norm(x[i], x[j])\n",
    "                qubo[i, j] = norm(x[i], x[j])\n",
    "    return qubo"
   ]
  },
  {
   "cell_type": "code",
   "execution_count": 3,
   "id": "e4d492be",
   "metadata": {
    "ExecuteTime": {
     "end_time": "2023-11-23T16:55:24.095127Z",
     "start_time": "2023-11-23T16:55:24.081878Z"
    }
   },
   "outputs": [],
   "source": [
    "def qboard_problem(problem_id, problem_type, task_number, matrix_file, where = 'MIN'):\n",
    "    obj_aux = dict(to = where, filenames = matrix_file)\n",
    "    return dict(id = problem_id, type = problem_type, \n",
    "                data_dir = '~/task_' + str(task_number) + '/pkl',\n",
    "                #data_dir = '~/pkl',\n",
    "                objective = obj_aux)\n",
    "def compile_yaml(all_problems, output_file):\n",
    "    output = []\n",
    "    for problem in all_problems:\n",
    "        output.append(qboard_problem(*problem))\n",
    "    stream = open(output_file, 'w')\n",
    "    yaml.dump(dict(problems = output), stream, sort_keys = False)\n",
    "    stream.close()\n",
    "    return\n",
    "\n",
    "def make_pkl(matrix, filename):\n",
    "    stream = open(filename, 'wb')\n",
    "    pickle.dump(csr_matrix(matrix), stream)\n",
    "    stream.close()\n",
    "    return"
   ]
  },
  {
   "cell_type": "code",
   "execution_count": null,
   "id": "f2f2e1c5",
   "metadata": {
    "ExecuteTime": {
     "start_time": "2023-11-23T16:56:55.452Z"
    }
   },
   "outputs": [],
   "source": [
    "folder = \"imgs\"\n",
    "\n",
    "ion_list = []\n",
    "for i, file in tqdm(enumerate(os.listdir(folder))):\n",
    "    img = cv2.imread(folder+\"/\"+file)\n",
    "    qubo = QUBO_matr(img)\n",
    "    print(qubo.shape)\n",
    "    s = t[:-4]\n",
    "    spkl = 'pkl/' + s+'.pkl'\n",
    "    syaml = 'yaml/'+s+'.yaml'\n",
    "    problems = [[s, 'QUBO', 3, spkl]]\n",
    "    make_pkl(Q, spkl)\n",
    "    compile_yaml(problems, s + syaml)"
   ]
  },
  {
   "cell_type": "code",
   "execution_count": 90,
   "id": "d3e14b24",
   "metadata": {
    "ExecuteTime": {
     "end_time": "2023-11-23T16:35:02.574637Z",
     "start_time": "2023-11-23T16:35:02.560809Z"
    }
   },
   "outputs": [
    {
     "data": {
      "text/plain": [
       "<enumerate at 0x1d75369d080>"
      ]
     },
     "execution_count": 90,
     "metadata": {},
     "output_type": "execute_result"
    }
   ],
   "source": [
    "enumerate(os.listdir('imgs'))"
   ]
  },
  {
   "cell_type": "code",
   "execution_count": 93,
   "id": "d36e6727",
   "metadata": {
    "ExecuteTime": {
     "end_time": "2023-11-23T16:37:40.552441Z",
     "start_time": "2023-11-23T16:37:40.529366Z"
    }
   },
   "outputs": [
    {
     "name": "stdout",
     "output_type": "stream",
     "text": [
      "1\n",
      "1_small\n",
      "1_small_segmented\n",
      "2\n",
      "2_small_c\n",
      "3\n",
      "4\n",
      "bloch_inv\n",
      "grapes_inv\n",
      "heraldic_inv\n"
     ]
    }
   ],
   "source": [
    "for i, t in enumerate(os.listdir('imgs')):\n",
    "    print(t[:-4])"
   ]
  },
  {
   "cell_type": "code",
   "execution_count": null,
   "id": "a79b81a6",
   "metadata": {},
   "outputs": [],
   "source": [
    "#Import files, find qubo matrices for image and save it to pickle file\n",
    "img_names = ['1_small']\n",
    "for i in range(1, 5):\n",
    "    data_file_name = str(i)+\".png\"\n",
    "    x = cv2.imread(data_file_name)\n",
    "    img.append(x)\n",
    "    print(x.shape)\n",
    "    "
   ]
  },
  {
   "cell_type": "code",
   "execution_count": 59,
   "id": "3cbb24ce",
   "metadata": {
    "ExecuteTime": {
     "end_time": "2023-11-23T15:27:10.646482Z",
     "start_time": "2023-11-23T15:27:10.629339Z"
    }
   },
   "outputs": [],
   "source": [
    "data_file_name = \"1_small.png\"\n",
    "img1 = cv2.imread(data_file_name) # open colour image"
   ]
  },
  {
   "cell_type": "code",
   "execution_count": 60,
   "id": "b1f05168",
   "metadata": {
    "ExecuteTime": {
     "end_time": "2023-11-23T15:27:17.351431Z",
     "start_time": "2023-11-23T15:27:11.341431Z"
    }
   },
   "outputs": [],
   "source": [
    "q = QUBO_matr(img1)"
   ]
  },
  {
   "cell_type": "code",
   "execution_count": 61,
   "id": "9b05c226",
   "metadata": {
    "ExecuteTime": {
     "end_time": "2023-11-23T15:27:36.789505Z",
     "start_time": "2023-11-23T15:27:36.774592Z"
    }
   },
   "outputs": [
    {
     "data": {
      "text/plain": [
       "(3600, 3600)"
      ]
     },
     "execution_count": 61,
     "metadata": {},
     "output_type": "execute_result"
    }
   ],
   "source": [
    "q.shape"
   ]
  },
  {
   "cell_type": "code",
   "execution_count": 62,
   "id": "c1abfe8f",
   "metadata": {
    "ExecuteTime": {
     "end_time": "2023-11-23T15:48:09.507113Z",
     "start_time": "2023-11-23T15:48:09.490851Z"
    }
   },
   "outputs": [],
   "source": [
    "img = np.array([[[0, 255], [0, 255]]]).reshape((2, 2, -1))"
   ]
  },
  {
   "cell_type": "code",
   "execution_count": 63,
   "id": "7637ae95",
   "metadata": {
    "ExecuteTime": {
     "end_time": "2023-11-23T15:48:14.383278Z",
     "start_time": "2023-11-23T15:48:12.898536Z"
    }
   },
   "outputs": [],
   "source": [
    "Q = QUBO_matr(img)"
   ]
  },
  {
   "cell_type": "code",
   "execution_count": 64,
   "id": "2379309b",
   "metadata": {
    "ExecuteTime": {
     "end_time": "2023-11-23T15:48:18.292141Z",
     "start_time": "2023-11-23T15:48:18.267660Z"
    }
   },
   "outputs": [
    {
     "data": {
      "text/plain": [
       "array([[-2.,  1.,  0.,  1.],\n",
       "       [ 1., -1.,  1.,  0.],\n",
       "       [ 0.,  1., -1.,  1.],\n",
       "       [ 1.,  0.,  1.,  0.]])"
      ]
     },
     "execution_count": 64,
     "metadata": {},
     "output_type": "execute_result"
    }
   ],
   "source": [
    "Q"
   ]
  },
  {
   "cell_type": "code",
   "execution_count": 19,
   "id": "784af516",
   "metadata": {
    "ExecuteTime": {
     "end_time": "2023-11-23T14:28:45.116179Z",
     "start_time": "2023-11-23T14:28:45.103215Z"
    }
   },
   "outputs": [
    {
     "data": {
      "text/plain": [
       "array([ 9, 10, 11])"
      ]
     },
     "execution_count": 19,
     "metadata": {},
     "output_type": "execute_result"
    }
   ],
   "source": [
    "a.reshape(4, 3)[3]"
   ]
  },
  {
   "cell_type": "code",
   "execution_count": 55,
   "id": "8e288a03",
   "metadata": {
    "ExecuteTime": {
     "end_time": "2023-11-23T14:43:01.960748Z",
     "start_time": "2023-11-23T14:43:01.948781Z"
    }
   },
   "outputs": [],
   "source": [
    "x = np.array([0, 1, 1, 1])"
   ]
  },
  {
   "cell_type": "code",
   "execution_count": 56,
   "id": "ebbe1041",
   "metadata": {
    "ExecuteTime": {
     "end_time": "2023-11-23T14:43:03.007281Z",
     "start_time": "2023-11-23T14:43:02.988747Z"
    }
   },
   "outputs": [
    {
     "data": {
      "text/plain": [
       "array([[-2.,  1.,  0.,  1.],\n",
       "       [ 1., -1.,  1.,  0.],\n",
       "       [ 0.,  1., -1.,  1.],\n",
       "       [ 1.,  0.,  1.,  0.]])"
      ]
     },
     "execution_count": 56,
     "metadata": {},
     "output_type": "execute_result"
    }
   ],
   "source": [
    "Q"
   ]
  },
  {
   "cell_type": "code",
   "execution_count": 57,
   "id": "efeef4d6",
   "metadata": {
    "ExecuteTime": {
     "end_time": "2023-11-23T14:43:03.426087Z",
     "start_time": "2023-11-23T14:43:03.407957Z"
    }
   },
   "outputs": [
    {
     "data": {
      "text/plain": [
       "2.0"
      ]
     },
     "execution_count": 57,
     "metadata": {},
     "output_type": "execute_result"
    }
   ],
   "source": [
    "x@Q@x.T"
   ]
  },
  {
   "cell_type": "code",
   "execution_count": null,
   "id": "44b7dbe0",
   "metadata": {},
   "outputs": [],
   "source": []
  },
  {
   "cell_type": "code",
   "execution_count": null,
   "id": "0d33e42d",
   "metadata": {},
   "outputs": [],
   "source": []
  }
 ],
 "metadata": {
  "kernelspec": {
   "display_name": "Python 3 (ipykernel)",
   "language": "python",
   "name": "python3"
  },
  "language_info": {
   "codemirror_mode": {
    "name": "ipython",
    "version": 3
   },
   "file_extension": ".py",
   "mimetype": "text/x-python",
   "name": "python",
   "nbconvert_exporter": "python",
   "pygments_lexer": "ipython3",
   "version": "3.9.13"
  }
 },
 "nbformat": 4,
 "nbformat_minor": 5
}
