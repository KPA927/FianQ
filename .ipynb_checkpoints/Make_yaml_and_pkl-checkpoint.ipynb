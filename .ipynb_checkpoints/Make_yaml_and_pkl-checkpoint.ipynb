{
 "cells": [
  {
   "cell_type": "code",
   "execution_count": 9,
   "id": "d21203cb",
   "metadata": {},
   "outputs": [],
   "source": [
    "import yaml\n",
    "from scipy.sparse import csr_matrix\n",
    "import pickle"
   ]
  },
  {
   "cell_type": "code",
   "execution_count": 10,
   "id": "529f81f3",
   "metadata": {},
   "outputs": [],
   "source": [
    "def qboard_problem(problem_id, problem_type, matrix_file, where = 'MIN'):\n",
    "    obj_aux = dict(to = where, filenames = matrix_file)\n",
    "    return dict(id = problem_id, type = problem_type, \n",
    "                data_dir = '~/task_' + str(task_number) + '/pkl',\n",
    "                #data_dir = '~/pkl',\n",
    "                objective = obj_aux)\n",
    "def compile_yaml(all_problems, output_file):\n",
    "    output = []\n",
    "    for problem in all_problems:\n",
    "        output.append(qboard_problem(*problem))\n",
    "    stream = open(output_file, 'w')\n",
    "    yaml.dump(dict(problems = output), stream, sort_keys = False)\n",
    "    stream.close()\n",
    "    return"
   ]
  },
  {
   "cell_type": "code",
   "execution_count": 3,
   "id": "ab6cd20e",
   "metadata": {},
   "outputs": [
    {
     "name": "stdout",
     "output_type": "stream",
     "text": [
      "{'id': 'schedule_1', 'type': 'QUBO', 'data_dir': '~/pkl', 'objective': {'to': 'MIN', 'filenames': 'schedule_1.pkl'}}\n"
     ]
    }
   ],
   "source": [
    "print(qboard_problem('schedule_1', 'QUBO', 'schedule_1.pkl'))"
   ]
  },
  {
   "cell_type": "code",
   "execution_count": 7,
   "id": "bc734e9c",
   "metadata": {},
   "outputs": [],
   "source": [
    "# a single problem is [id, type (Ising or QUBO), matrix file]\n",
    "problems = [['trial_1', 'QUBO', 'trial_1.pkl'], ['trial_2', 'ISING', 'trial_2.pkl']]\n",
    "compile_yaml(problems, 'trial_1.yaml')"
   ]
  },
  {
   "cell_type": "code",
   "execution_count": 5,
   "id": "411e80fd",
   "metadata": {},
   "outputs": [],
   "source": [
    "def make_pkl(matrix, filename):\n",
    "    stream = open(filename, 'wb')\n",
    "    pickle.dump(csr_matrix(matrix), stream)\n",
    "    stream.close()\n",
    "    return"
   ]
  },
  {
   "cell_type": "code",
   "execution_count": 6,
   "id": "78c1f351",
   "metadata": {},
   "outputs": [],
   "source": [
    "make_pkl([[1, 2], [3, 4]], 'test.pkl')"
   ]
  },
  {
   "cell_type": "code",
   "execution_count": null,
   "id": "afbc88e8",
   "metadata": {},
   "outputs": [],
   "source": [
    "pickle.load()"
   ]
  }
 ],
 "metadata": {
  "kernelspec": {
   "display_name": "Python 3 (ipykernel)",
   "language": "python",
   "name": "python3"
  },
  "language_info": {
   "codemirror_mode": {
    "name": "ipython",
    "version": 3
   },
   "file_extension": ".py",
   "mimetype": "text/x-python",
   "name": "python",
   "nbconvert_exporter": "python",
   "pygments_lexer": "ipython3",
   "version": "3.9.13"
  }
 },
 "nbformat": 4,
 "nbformat_minor": 5
}
