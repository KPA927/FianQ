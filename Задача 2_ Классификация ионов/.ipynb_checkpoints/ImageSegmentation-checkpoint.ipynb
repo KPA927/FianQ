{
 "cells": [
  {
   "cell_type": "code",
   "execution_count": 2,
   "id": "3167313e",
   "metadata": {
    "ExecuteTime": {
     "end_time": "2023-11-23T11:49:41.210655Z",
     "start_time": "2023-11-23T11:49:35.397368Z"
    }
   },
   "outputs": [],
   "source": [
    "import pandas as pd\n",
    "import numpy as np\n",
    "from matplotlib import pyplot as plt\n",
    "import cv2"
   ]
  },
  {
   "cell_type": "code",
   "execution_count": null,
   "id": "6dea815b",
   "metadata": {},
   "outputs": [],
   "source": [
    "img = cv2.imread(data_file_name)"
   ]
  },
  {
   "cell_type": "code",
   "execution_count": 11,
   "id": "9d7b5c10",
   "metadata": {
    "ExecuteTime": {
     "end_time": "2023-11-23T14:27:34.038195Z",
     "start_time": "2023-11-23T14:27:34.023235Z"
    }
   },
   "outputs": [],
   "source": [
    "a = np.arange(12).reshape((2, 2, 3))"
   ]
  },
  {
   "cell_type": "code",
   "execution_count": 20,
   "id": "421c70be",
   "metadata": {
    "ExecuteTime": {
     "end_time": "2023-11-23T14:28:47.256970Z",
     "start_time": "2023-11-23T14:28:47.245003Z"
    }
   },
   "outputs": [
    {
     "data": {
      "text/plain": [
       "array([ 9, 10, 11])"
      ]
     },
     "execution_count": 20,
     "metadata": {},
     "output_type": "execute_result"
    }
   ],
   "source": [
    "a[1, 1]"
   ]
  },
  {
   "cell_type": "code",
   "execution_count": 19,
   "id": "784af516",
   "metadata": {
    "ExecuteTime": {
     "end_time": "2023-11-23T14:28:45.116179Z",
     "start_time": "2023-11-23T14:28:45.103215Z"
    }
   },
   "outputs": [
    {
     "data": {
      "text/plain": [
       "array([ 9, 10, 11])"
      ]
     },
     "execution_count": 19,
     "metadata": {},
     "output_type": "execute_result"
    }
   ],
   "source": [
    "a.reshape(4, 3)[3]"
   ]
  },
  {
   "cell_type": "code",
   "execution_count": 49,
   "id": "04d7873f",
   "metadata": {
    "ExecuteTime": {
     "end_time": "2023-11-23T14:42:45.491203Z",
     "start_time": "2023-11-23T14:42:45.466270Z"
    }
   },
   "outputs": [],
   "source": [
    "def norm(x_i, x_j):\n",
    "    return np.sum((x_i-x_j)**2)\n",
    "\n",
    "def QUBO_matr(img):\n",
    "    \"\"\"\n",
    "    Find QUBO matrix  for omage recognition\n",
    "    img - RGB of image pixels \n",
    "    \"\"\"\n",
    "    h, v, c = img.shape\n",
    "    N = h*v\n",
    "    x = img.reshape((N, c))/255\n",
    "    qubo = np.zeros((N, N))\n",
    "    for i in range(N):\n",
    "        for j in range(N):\n",
    "                qubo[i, i] -= norm(x[i], x[j])\n",
    "                qubo[i, j] = norm(x[i], x[j])\n",
    "    return qubo"
   ]
  },
  {
   "cell_type": "code",
   "execution_count": 35,
   "id": "c1abfe8f",
   "metadata": {
    "ExecuteTime": {
     "end_time": "2023-11-23T14:35:15.960106Z",
     "start_time": "2023-11-23T14:35:15.941156Z"
    }
   },
   "outputs": [],
   "source": [
    "img = np.array([[[0, 255], [0, 255]]]).reshape((2, 2, -1))"
   ]
  },
  {
   "cell_type": "code",
   "execution_count": 50,
   "id": "7637ae95",
   "metadata": {
    "ExecuteTime": {
     "end_time": "2023-11-23T14:42:47.349666Z",
     "start_time": "2023-11-23T14:42:47.332712Z"
    }
   },
   "outputs": [],
   "source": [
    "Q = QUBO_matr(img)"
   ]
  },
  {
   "cell_type": "code",
   "execution_count": 55,
   "id": "8e288a03",
   "metadata": {
    "ExecuteTime": {
     "end_time": "2023-11-23T14:43:01.960748Z",
     "start_time": "2023-11-23T14:43:01.948781Z"
    }
   },
   "outputs": [],
   "source": [
    "x = np.array([0, 1, 1, 1])"
   ]
  },
  {
   "cell_type": "code",
   "execution_count": 56,
   "id": "ebbe1041",
   "metadata": {
    "ExecuteTime": {
     "end_time": "2023-11-23T14:43:03.007281Z",
     "start_time": "2023-11-23T14:43:02.988747Z"
    }
   },
   "outputs": [
    {
     "data": {
      "text/plain": [
       "array([[-2.,  1.,  0.,  1.],\n",
       "       [ 1., -1.,  1.,  0.],\n",
       "       [ 0.,  1., -1.,  1.],\n",
       "       [ 1.,  0.,  1.,  0.]])"
      ]
     },
     "execution_count": 56,
     "metadata": {},
     "output_type": "execute_result"
    }
   ],
   "source": [
    "Q"
   ]
  },
  {
   "cell_type": "code",
   "execution_count": 57,
   "id": "efeef4d6",
   "metadata": {
    "ExecuteTime": {
     "end_time": "2023-11-23T14:43:03.426087Z",
     "start_time": "2023-11-23T14:43:03.407957Z"
    }
   },
   "outputs": [
    {
     "data": {
      "text/plain": [
       "2.0"
      ]
     },
     "execution_count": 57,
     "metadata": {},
     "output_type": "execute_result"
    }
   ],
   "source": [
    "x@Q@x.T"
   ]
  },
  {
   "cell_type": "code",
   "execution_count": null,
   "id": "44b7dbe0",
   "metadata": {},
   "outputs": [],
   "source": []
  },
  {
   "cell_type": "code",
   "execution_count": null,
   "id": "0d33e42d",
   "metadata": {},
   "outputs": [],
   "source": []
  }
 ],
 "metadata": {
  "kernelspec": {
   "display_name": "Python 3 (ipykernel)",
   "language": "python",
   "name": "python3"
  },
  "language_info": {
   "codemirror_mode": {
    "name": "ipython",
    "version": 3
   },
   "file_extension": ".py",
   "mimetype": "text/x-python",
   "name": "python",
   "nbconvert_exporter": "python",
   "pygments_lexer": "ipython3",
   "version": "3.9.13"
  }
 },
 "nbformat": 4,
 "nbformat_minor": 5
}
