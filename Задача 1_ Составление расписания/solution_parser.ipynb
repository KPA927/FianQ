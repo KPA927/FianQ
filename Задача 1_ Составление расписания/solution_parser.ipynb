{
 "cells": [
  {
   "cell_type": "code",
   "execution_count": 5,
   "id": "749f1fbe",
   "metadata": {},
   "outputs": [],
   "source": [
    "from yaml import safe_load\n",
    "import numpy as np\n",
    "import csv"
   ]
  },
  {
   "cell_type": "code",
   "execution_count": 6,
   "id": "7c9d41a6",
   "metadata": {},
   "outputs": [],
   "source": [
    "# function for calculating the flattened index\n",
    "def calculateindex(offsets, sizes):\n",
    "    total_index = 0\n",
    "    for offset, size in zip(offsets, sizes):\n",
    "        total_index *= size\n",
    "        total_index += offset\n",
    "    return total_index"
   ]
  },
  {
   "cell_type": "code",
   "execution_count": 7,
   "id": "02adef4a",
   "metadata": {},
   "outputs": [],
   "source": [
    "N = 5 # teachers\n",
    "M = 2 # subjects per teacher\n",
    "K = 2 # groups\n",
    "W = 2 # weeks\n",
    "T = 8 # hours\n",
    "D = 6\n",
    "# 6 days per week by default\n",
    "sizes = [K, W, D, T, N, M]"
   ]
  },
  {
   "cell_type": "code",
   "execution_count": 8,
   "id": "48cfcd96",
   "metadata": {},
   "outputs": [],
   "source": [
    "# parse solution\n",
    "stream = open('solution.yaml', 'r')\n",
    "solution_binary = [*(safe_load(stream)[0]['solution']['variables'].values())][:np.prod(sizes)]\n",
    "stream.close()\n",
    "\n",
    "#solution_binary = np.reshape(solution_binary, (2,2,6,8,5,2), order = 'F')\n",
    "\n",
    "\n",
    "with open('solution.csv', 'w', newline='', encoding = 'utf-8') as file:\n",
    "    writer = csv.writer(file, delimiter = ',', dialect='excel')\n",
    "    field = [\"Group\", \"Week\", \"Day\", \"Hour\", \"Subject\", \"Name\"]\n",
    "    writer.writerow(field)\n",
    "    custom_dict_group = {'QC_1': 0, 'QC_2': 1}\n",
    "    custom_dict_week = {'неделя 1': 0, 'неделя 2': 1}\n",
    "    custom_dict_day = {'пн': 0, 'вт': 1, 'ср': 2, 'чт': 3, 'пт': 4, 'сб': 5, 'вс': 6}\n",
    "    custom_dict_hour = {'9:00-10:00': 0, '10:00-11:00': 1, '11:00-12:00': 2, '12:00-13:00': 3, '13:00-14:00': 4, '14:00-15:00': 5, '15:00-16:00': 6, '16:00-17:00': 7}\n",
    "    inv_gr = {v: k for k, v in custom_dict_group.items()}\n",
    "    inv_week = {v: k for k, v in custom_dict_week.items()}\n",
    "    inv_day = {v: k for k, v in custom_dict_day.items()}\n",
    "    inv_hour = {v: k for k, v in custom_dict_hour.items()}\n",
    "    custom_dict_teacher = {'Иванов': 0, 'Петров': 1, 'Сидоров': 2, 'Карпов': 3, 'Соколов': 4}\n",
    "    custom_dict_subject = {'Квантовая механика': 0, 'Квантовая теория информации': 1, 'Квантовые вычисления': 2, 'Сложность квантовых алгоритмов': 3, 'Квантовые алгоритмы в логистике': 4,\n",
    "                            'Квантовое машинное обучение': 5, 'Моделирование квантовых систем': 6, 'Квантовые алгоритмы в химии': 7,'Физическая реализация квантовых компьютеров': 8,\n",
    "                            'Моделирование квантовых алгоритмов': 9}\n",
    "    inv_teacher =  {v: k for k, v in custom_dict_teacher.items()}\n",
    "    inv_subject =  {v: k for k, v in custom_dict_subject.items()}\n",
    "\n",
    "\n",
    "    ifyes = np.zeros((2,2,6,8))  \n",
    "    for g in range(2):\n",
    "        for w in range(2):\n",
    "            for d in range(6):\n",
    "                for t in range(8):\n",
    "                    for p in range(5):\n",
    "                        for s in range(2):\n",
    "                            if (solution_binary[calculateindex([g, w, d, t, p, s], sizes)]!=0):\n",
    "                                writer.writerow([ inv_gr[g], inv_week[w], inv_day[d], inv_hour[t], inv_subject[2*p+s], inv_teacher[p]]) \n",
    "                                ifyes[g,w,d,t] = 1\n",
    "\n",
    "    for g in range(2):\n",
    "        for w in range(2):\n",
    "            for d in range(6):\n",
    "                for t in range(8):\n",
    "                    if (ifyes[g, w, d, t] == 0):\n",
    "                        writer.writerow([ inv_gr[g], inv_week[w], inv_day[d], inv_hour[t], 'нет занятий', 'нет занятий'])"
   ]
  },
  {
   "cell_type": "code",
   "execution_count": null,
   "id": "28f53af7",
   "metadata": {},
   "outputs": [],
   "source": []
  }
 ],
 "metadata": {
  "kernelspec": {
   "display_name": "Python 3 (ipykernel)",
   "language": "python",
   "name": "python3"
  },
  "language_info": {
   "codemirror_mode": {
    "name": "ipython",
    "version": 3
   },
   "file_extension": ".py",
   "mimetype": "text/x-python",
   "name": "python",
   "nbconvert_exporter": "python",
   "pygments_lexer": "ipython3",
   "version": "3.9.7"
  }
 },
 "nbformat": 4,
 "nbformat_minor": 5
}
