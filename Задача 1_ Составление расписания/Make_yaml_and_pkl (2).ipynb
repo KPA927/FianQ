{
 "cells": [
  {
   "cell_type": "code",
   "execution_count": 227,
   "id": "d21203cb",
   "metadata": {},
   "outputs": [],
   "source": [
    "import yaml\n",
    "from scipy.sparse import csr_matrix, lil_matrix\n",
    "import pickle\n",
    "import numpy as np"
   ]
  },
  {
   "cell_type": "code",
   "execution_count": 228,
   "id": "529f81f3",
   "metadata": {},
   "outputs": [],
   "source": [
    "def qboard_problem(problem_id, problem_type, task_number, matrix_file, where = 'MIN'):\n",
    "    obj_aux = dict(to = where, filenames = matrix_file)\n",
    "    return dict(id = problem_id, type = problem_type, \n",
    "                data_dir = '~/task_' + str(task_number) + '/pkl',\n",
    "                #data_dir = '~/pkl',\n",
    "                objective = obj_aux)\n",
    "def compile_yaml(all_problems, output_file):\n",
    "    output = []\n",
    "    for problem in all_problems:\n",
    "        output.append(qboard_problem(*problem))\n",
    "    stream = open(output_file, 'w')\n",
    "    yaml.dump(dict(problems = output), stream, sort_keys = False)\n",
    "    stream.close()\n",
    "    return"
   ]
  },
  {
   "cell_type": "code",
   "execution_count": 229,
   "id": "bc734e9c",
   "metadata": {},
   "outputs": [],
   "source": [
    "# a single problem is [id, type (Ising or QUBO), task number, matrix file]\n",
    "problems = [['Schedule', 'QUBO', 1, 'schedule_QUBO.pkl']]\n",
    "compile_yaml(problems, 'schedule.yaml')"
   ]
  },
  {
   "cell_type": "code",
   "execution_count": 230,
   "id": "411e80fd",
   "metadata": {},
   "outputs": [],
   "source": [
    "def make_pkl(matrix, filename):\n",
    "    stream = open(filename, 'wb')\n",
    "    #pickle.dump(matrix, stream)\n",
    "    pickle.dump(lil_matrix(matrix), stream)\n",
    "    stream.close()\n",
    "    return"
   ]
  },
  {
   "cell_type": "code",
   "execution_count": 231,
   "id": "8aba6ec0",
   "metadata": {},
   "outputs": [],
   "source": [
    "data_trial = np.load('schedule_QUBO.npy')"
   ]
  },
  {
   "cell_type": "code",
   "execution_count": 232,
   "id": "bc1f489b",
   "metadata": {},
   "outputs": [],
   "source": [
    "make_pkl(data_trial, 'schedule_QUBO.pkl')"
   ]
  }
 ],
 "metadata": {
  "kernelspec": {
   "display_name": "Python 3 (ipykernel)",
   "language": "python",
   "name": "python3"
  },
  "language_info": {
   "codemirror_mode": {
    "name": "ipython",
    "version": 3
   },
   "file_extension": ".py",
   "mimetype": "text/x-python",
   "name": "python",
   "nbconvert_exporter": "python",
   "pygments_lexer": "ipython3",
   "version": "3.9.7"
  }
 },
 "nbformat": 4,
 "nbformat_minor": 5
}
